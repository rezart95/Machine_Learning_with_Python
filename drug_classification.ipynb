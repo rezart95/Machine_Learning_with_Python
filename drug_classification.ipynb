{
 "cells": [
  {
   "cell_type": "code",
   "execution_count": 29,
   "metadata": {},
   "outputs": [],
   "source": [
    "import pandas as pd\n",
    "import numpy as np\n",
    "import matplotlib.pyplot as plt\n",
    "import seaborn as sns\n",
    "import pylab as pl\n",
    "%matplotlib inline\n",
    "\n",
    "from sklearn.preprocessing import LabelEncoder\n",
    "from sklearn.preprocessing import MinMaxScaler\n",
    "from sklearn.model_selection import train_test_split\n",
    "from sklearn.metrics import confusion_matrix, accuracy_score, classification_report\n",
    "from sklearn.metrics import accuracy_score, f1_score\n",
    "\n",
    "from sklearn.tree import DecisionTreeClassifier as DT\n",
    "from sklearn.linear_model import LogisticRegression\n",
    "from sklearn.ensemble import RandomForestClassifier\n",
    "from sklearn.neighbors import KNeighborsClassifier\n",
    "from warnings import filterwarnings\n",
    "filterwarnings('ignore')"
   ]
  },
  {
   "cell_type": "markdown",
   "metadata": {},
   "source": [
    "## PART ONE"
   ]
  },
  {
   "cell_type": "code",
   "execution_count": 2,
   "metadata": {},
   "outputs": [],
   "source": [
    "# importing the dataset\n",
    "df = pd.read_csv('Belt2_A_drug_type.csv')"
   ]
  },
  {
   "cell_type": "code",
   "execution_count": 3,
   "metadata": {},
   "outputs": [
    {
     "data": {
      "text/html": [
       "<style  type=\"text/css\" >\n",
       "    #T_60de87ba_5678_11ec_bd68_9cb6d093cb3erow0_col0 {\n",
       "            background-color:  #fff7fb;\n",
       "            color:  #000000;\n",
       "        }    #T_60de87ba_5678_11ec_bd68_9cb6d093cb3erow1_col0 {\n",
       "            background-color:  #348ebf;\n",
       "            color:  #000000;\n",
       "        }    #T_60de87ba_5678_11ec_bd68_9cb6d093cb3erow2_col0 {\n",
       "            background-color:  #348ebf;\n",
       "            color:  #000000;\n",
       "        }    #T_60de87ba_5678_11ec_bd68_9cb6d093cb3erow3_col0 {\n",
       "            background-color:  #ebe6f2;\n",
       "            color:  #000000;\n",
       "        }    #T_60de87ba_5678_11ec_bd68_9cb6d093cb3erow4_col0 {\n",
       "            background-color:  #023858;\n",
       "            color:  #f1f1f1;\n",
       "        }</style><table id=\"T_60de87ba_5678_11ec_bd68_9cb6d093cb3e\" ><thead>    <tr>        <th class=\"blank level0\" ></th>        <th class=\"col_heading level0 col0\" >Age</th>        <th class=\"col_heading level0 col1\" >Gender</th>        <th class=\"col_heading level0 col2\" >BP</th>        <th class=\"col_heading level0 col3\" >Cholesterol</th>        <th class=\"col_heading level0 col4\" >Na_to_K</th>        <th class=\"col_heading level0 col5\" >Drug</th>    </tr></thead><tbody>\n",
       "                <tr>\n",
       "                        <th id=\"T_60de87ba_5678_11ec_bd68_9cb6d093cb3elevel0_row0\" class=\"row_heading level0 row0\" >0</th>\n",
       "                        <td id=\"T_60de87ba_5678_11ec_bd68_9cb6d093cb3erow0_col0\" class=\"data row0 col0\" >23</td>\n",
       "                        <td id=\"T_60de87ba_5678_11ec_bd68_9cb6d093cb3erow0_col1\" class=\"data row0 col1\" >F</td>\n",
       "                        <td id=\"T_60de87ba_5678_11ec_bd68_9cb6d093cb3erow0_col2\" class=\"data row0 col2\" >HIGH</td>\n",
       "                        <td id=\"T_60de87ba_5678_11ec_bd68_9cb6d093cb3erow0_col3\" class=\"data row0 col3\" >HIGH</td>\n",
       "                        <td id=\"T_60de87ba_5678_11ec_bd68_9cb6d093cb3erow0_col4\" class=\"data row0 col4\" >25.355</td>\n",
       "                        <td id=\"T_60de87ba_5678_11ec_bd68_9cb6d093cb3erow0_col5\" class=\"data row0 col5\" >DrugY</td>\n",
       "            </tr>\n",
       "            <tr>\n",
       "                        <th id=\"T_60de87ba_5678_11ec_bd68_9cb6d093cb3elevel0_row1\" class=\"row_heading level0 row1\" >1</th>\n",
       "                        <td id=\"T_60de87ba_5678_11ec_bd68_9cb6d093cb3erow1_col0\" class=\"data row1 col0\" >47</td>\n",
       "                        <td id=\"T_60de87ba_5678_11ec_bd68_9cb6d093cb3erow1_col1\" class=\"data row1 col1\" >M</td>\n",
       "                        <td id=\"T_60de87ba_5678_11ec_bd68_9cb6d093cb3erow1_col2\" class=\"data row1 col2\" >LOW</td>\n",
       "                        <td id=\"T_60de87ba_5678_11ec_bd68_9cb6d093cb3erow1_col3\" class=\"data row1 col3\" >HIGH</td>\n",
       "                        <td id=\"T_60de87ba_5678_11ec_bd68_9cb6d093cb3erow1_col4\" class=\"data row1 col4\" >13.093</td>\n",
       "                        <td id=\"T_60de87ba_5678_11ec_bd68_9cb6d093cb3erow1_col5\" class=\"data row1 col5\" >drugC</td>\n",
       "            </tr>\n",
       "            <tr>\n",
       "                        <th id=\"T_60de87ba_5678_11ec_bd68_9cb6d093cb3elevel0_row2\" class=\"row_heading level0 row2\" >2</th>\n",
       "                        <td id=\"T_60de87ba_5678_11ec_bd68_9cb6d093cb3erow2_col0\" class=\"data row2 col0\" >47</td>\n",
       "                        <td id=\"T_60de87ba_5678_11ec_bd68_9cb6d093cb3erow2_col1\" class=\"data row2 col1\" >M</td>\n",
       "                        <td id=\"T_60de87ba_5678_11ec_bd68_9cb6d093cb3erow2_col2\" class=\"data row2 col2\" >LOW</td>\n",
       "                        <td id=\"T_60de87ba_5678_11ec_bd68_9cb6d093cb3erow2_col3\" class=\"data row2 col3\" >HIGH</td>\n",
       "                        <td id=\"T_60de87ba_5678_11ec_bd68_9cb6d093cb3erow2_col4\" class=\"data row2 col4\" >10.114</td>\n",
       "                        <td id=\"T_60de87ba_5678_11ec_bd68_9cb6d093cb3erow2_col5\" class=\"data row2 col5\" >drugC</td>\n",
       "            </tr>\n",
       "            <tr>\n",
       "                        <th id=\"T_60de87ba_5678_11ec_bd68_9cb6d093cb3elevel0_row3\" class=\"row_heading level0 row3\" >3</th>\n",
       "                        <td id=\"T_60de87ba_5678_11ec_bd68_9cb6d093cb3erow3_col0\" class=\"data row3 col0\" >28</td>\n",
       "                        <td id=\"T_60de87ba_5678_11ec_bd68_9cb6d093cb3erow3_col1\" class=\"data row3 col1\" >F</td>\n",
       "                        <td id=\"T_60de87ba_5678_11ec_bd68_9cb6d093cb3erow3_col2\" class=\"data row3 col2\" >NORMAL</td>\n",
       "                        <td id=\"T_60de87ba_5678_11ec_bd68_9cb6d093cb3erow3_col3\" class=\"data row3 col3\" >HIGH</td>\n",
       "                        <td id=\"T_60de87ba_5678_11ec_bd68_9cb6d093cb3erow3_col4\" class=\"data row3 col4\" >7.798</td>\n",
       "                        <td id=\"T_60de87ba_5678_11ec_bd68_9cb6d093cb3erow3_col5\" class=\"data row3 col5\" >drugX</td>\n",
       "            </tr>\n",
       "            <tr>\n",
       "                        <th id=\"T_60de87ba_5678_11ec_bd68_9cb6d093cb3elevel0_row4\" class=\"row_heading level0 row4\" >4</th>\n",
       "                        <td id=\"T_60de87ba_5678_11ec_bd68_9cb6d093cb3erow4_col0\" class=\"data row4 col0\" >61</td>\n",
       "                        <td id=\"T_60de87ba_5678_11ec_bd68_9cb6d093cb3erow4_col1\" class=\"data row4 col1\" >F</td>\n",
       "                        <td id=\"T_60de87ba_5678_11ec_bd68_9cb6d093cb3erow4_col2\" class=\"data row4 col2\" >LOW</td>\n",
       "                        <td id=\"T_60de87ba_5678_11ec_bd68_9cb6d093cb3erow4_col3\" class=\"data row4 col3\" >HIGH</td>\n",
       "                        <td id=\"T_60de87ba_5678_11ec_bd68_9cb6d093cb3erow4_col4\" class=\"data row4 col4\" >18.043</td>\n",
       "                        <td id=\"T_60de87ba_5678_11ec_bd68_9cb6d093cb3erow4_col5\" class=\"data row4 col5\" >DrugY</td>\n",
       "            </tr>\n",
       "    </tbody></table>"
      ],
      "text/plain": [
       "<pandas.io.formats.style.Styler at 0x2b9de5aec08>"
      ]
     },
     "execution_count": 3,
     "metadata": {},
     "output_type": "execute_result"
    }
   ],
   "source": [
    "#using a background style to visualise better the numerical varibales\n",
    "# higher is the number stronger is the color assigned\n",
    "df.head().style.background_gradient(axis=0)"
   ]
  },
  {
   "cell_type": "code",
   "execution_count": 4,
   "metadata": {},
   "outputs": [
    {
     "name": "stdout",
     "output_type": "stream",
     "text": [
      "<class 'pandas.core.frame.DataFrame'>\n",
      "RangeIndex: 200 entries, 0 to 199\n",
      "Data columns (total 6 columns):\n",
      "Age            200 non-null int64\n",
      "Gender         200 non-null object\n",
      "BP             198 non-null object\n",
      "Cholesterol    200 non-null object\n",
      "Na_to_K        200 non-null object\n",
      "Drug           200 non-null object\n",
      "dtypes: int64(1), object(5)\n",
      "memory usage: 9.5+ KB\n"
     ]
    }
   ],
   "source": [
    "# Only BP has 2 missing values the rest looks good \n",
    "df.info()"
   ]
  },
  {
   "cell_type": "code",
   "execution_count": 5,
   "metadata": {},
   "outputs": [
    {
     "data": {
      "text/html": [
       "<div>\n",
       "<style scoped>\n",
       "    .dataframe tbody tr th:only-of-type {\n",
       "        vertical-align: middle;\n",
       "    }\n",
       "\n",
       "    .dataframe tbody tr th {\n",
       "        vertical-align: top;\n",
       "    }\n",
       "\n",
       "    .dataframe thead th {\n",
       "        text-align: right;\n",
       "    }\n",
       "</style>\n",
       "<table border=\"1\" class=\"dataframe\">\n",
       "  <thead>\n",
       "    <tr style=\"text-align: right;\">\n",
       "      <th></th>\n",
       "      <th>Age</th>\n",
       "      <th>Gender</th>\n",
       "      <th>BP</th>\n",
       "      <th>Cholesterol</th>\n",
       "      <th>Na_to_K</th>\n",
       "      <th>Drug</th>\n",
       "    </tr>\n",
       "  </thead>\n",
       "  <tbody>\n",
       "    <tr>\n",
       "      <td>153</td>\n",
       "      <td>72</td>\n",
       "      <td>F</td>\n",
       "      <td>NaN</td>\n",
       "      <td>NORMAL</td>\n",
       "      <td>14.642</td>\n",
       "      <td>drugX</td>\n",
       "    </tr>\n",
       "    <tr>\n",
       "      <td>195</td>\n",
       "      <td>56</td>\n",
       "      <td>F</td>\n",
       "      <td>NaN</td>\n",
       "      <td>HIGH</td>\n",
       "      <td>11.567</td>\n",
       "      <td>drugC</td>\n",
       "    </tr>\n",
       "  </tbody>\n",
       "</table>\n",
       "</div>"
      ],
      "text/plain": [
       "     Age Gender   BP Cholesterol Na_to_K   Drug\n",
       "153   72      F  NaN      NORMAL  14.642  drugX\n",
       "195   56      F  NaN        HIGH  11.567  drugC"
      ]
     },
     "execution_count": 5,
     "metadata": {},
     "output_type": "execute_result"
    }
   ],
   "source": [
    "#Row 153 & 195 are empty for BP\n",
    "df[df['BP'].isna()]"
   ]
  },
  {
   "cell_type": "code",
   "execution_count": 6,
   "metadata": {},
   "outputs": [
    {
     "data": {
      "text/plain": [
       "(198, 6)"
      ]
     },
     "execution_count": 6,
     "metadata": {},
     "output_type": "execute_result"
    }
   ],
   "source": [
    "# BP (Blood pressure levels (low, normal, or high))\n",
    "# has 2 missing values which i choose not to replace but to dropbecause the only way\n",
    "# to replace was assigning random variablesin this case and this could affect ur prediction (is not a numerical variable)\n",
    "\n",
    "df = df.dropna()\n",
    "df.shape"
   ]
  },
  {
   "cell_type": "code",
   "execution_count": 7,
   "metadata": {},
   "outputs": [],
   "source": [
    "# This is the dictionary provided in the Coding Dojo Task\n",
    "\n",
    "#Age --> Iteger\n",
    "#DRUG --> Object\n",
    "#Gender --> Object\n",
    "#BP --> Object\n",
    "#Cholesterol --> Object\n",
    "#NA_to_K --> Float"
   ]
  },
  {
   "cell_type": "code",
   "execution_count": 8,
   "metadata": {},
   "outputs": [
    {
     "data": {
      "text/plain": [
       "Age             int64\n",
       "Gender         object\n",
       "BP             object\n",
       "Cholesterol    object\n",
       "Na_to_K        object\n",
       "Drug           object\n",
       "dtype: object"
      ]
     },
     "execution_count": 8,
     "metadata": {},
     "output_type": "execute_result"
    }
   ],
   "source": [
    "# We can notice that NA_to_K needs to be converted to float\n",
    "df.dtypes"
   ]
  },
  {
   "cell_type": "code",
   "execution_count": 9,
   "metadata": {},
   "outputs": [
    {
     "data": {
      "text/plain": [
       "0"
      ]
     },
     "execution_count": 9,
     "metadata": {},
     "output_type": "execute_result"
    }
   ],
   "source": [
    "# no dublicated values found in the dataframe\n",
    "df.duplicated().sum()"
   ]
  },
  {
   "cell_type": "code",
   "execution_count": 11,
   "metadata": {},
   "outputs": [
    {
     "name": "stdout",
     "output_type": "stream",
     "text": [
      "[ 23  47  28  61  22  49  41  60  43  34  74  50  16  69  32  57  63  48\n",
      "  33  31  39  45  18  65  53  46  15  73  58  66  37  68  67  62  24  26\n",
      "  40  38  29  17  54  70  36  19  64  59  51  42  56  20  72  35  52  55\n",
      "  30  21 570  25]\n",
      "['F' 'M' 'femal' 'Female' 'Male' 'male' 'female' 'Femal']\n",
      "['HIGH' 'LOW' 'NORMAL' 'L0w' 'High' 'Normal' 'low' 'Low' 'high' 'normal']\n",
      "['HIGH' 'high' 'NORMAL' 'norm' 'NORM']\n",
      "['25.355' '13.093' '10.114' '7.798' '18.043' '8.607' '16.275' '11.037'\n",
      " '15.171' '19.368' '11.767' '19.199' '15.376' '20.942' '12.703' '15.516'\n",
      " '11.455' '13.972' '7.298' '25.974' '19.128' '25.917' '30.568' '15.036'\n",
      " '33.486' '18.809' '30.366' '9.381' '22.697' '17.951' '8.75' '9.567'\n",
      " '11.014' '31.876' '14.133' '7.285' '9.445' '13.938' '9.709' '9.084'\n",
      " '19.221' '14.239' '15.79' '12.26' '12.295' '8.107' '13.091' '10.291'\n",
      " '31.686' '19.796' '19.416' '10.898' '27.183' '18.457' '10.189' '14.16'\n",
      " '11.34' '27.826' '10.091' '18.703' '29.875' '9.475' '20.693' '8.37'\n",
      " '13.303' '27.05' '12.856' '10.832' '24.658' '24.276' '13.967' '19.675'\n",
      " '10.605' '22.905' '17.069' '20.909' '11.198' '19.161' '13.313' '10.84'\n",
      " '13.934' '7.761' '9.712_' '11.326' '10.067' '13.935' '13.597' '15.478'\n",
      " '23.091' '17.211' '16.594' '15.156' '29.45' '29.271' '15.015' '11.424'\n",
      " '38.247' '25.395' '35.639' '16.725' '11.871' '12.854' '13.127' '8.966'\n",
      " '28.294' '8.968' '11.953' '20.013' '9.677' '16.85' '7.49' '6.683' '9.17'\n",
      " '13.769' '9.281' '18.295' '9.514' '10.103' '10.292' '25.475' '27.064'\n",
      " '17.206' '22.456' '16.753' '12.495' '25.969' '16.347' '7.845' '33.542'\n",
      " '7.477' '20.489' '32.922' '13.598' '25.786' '21.036' '11.939' '10.977'\n",
      " '12.894' '11.343' '10.065' '6.269' '25.741' '8.621' '15.436' '9.664'\n",
      " '9.443' '12.006' '12.307' '7.34' '8.151' '8.7' '11.009' '7.261' '16.724'\n",
      " '10.537' '11.227' '22.963' '10.444' '12.923' '10.443' '9.945' '12.859'\n",
      " '28.632' '19.007' '26.645' '14.216' '23.003' '11.262' '12.879' '10.017'\n",
      " '17.225' '18.739' '12.766' '18.348' '10.446' '19.011' '15.969' '15.891'\n",
      " '22.818' '13.884' '11.686' '15.49' '37.188' '25.893' '9.849' '10.403_'\n",
      " '34.997' '20.932' '18.991' '8.011' '16.31' '6.769' '34.686' '9.894'\n",
      " '14.02' '11.349']\n",
      "['DrugY' 'drugC' 'drugX' 'drugA' 'drugB']\n"
     ]
    }
   ],
   "source": [
    "# By printing all the unique values of each column we can notice differenct problems:\n",
    "\n",
    "# Age has typo errors like 570 instead of 57\n",
    "# Gender has more than 1 way for showing the gender, needs to be fixed\n",
    "# Blood Pressure needs some modificatin aswell because we need a 2 level varibale there\n",
    "# Cholesterol has the same issues as Gender and Blood Pressure\n",
    "# Na_to_K has some type erros '10.403_' , '9.712_' which not allow the variable to be converted \n",
    "# Drug i have decided to remove the word DRUG and leave only the letter (A,B,C,X,Y)\n",
    "\n",
    "for col in df:\n",
    "    print(df[col].unique())"
   ]
  },
  {
   "cell_type": "code",
   "execution_count": 12,
   "metadata": {},
   "outputs": [],
   "source": [
    "# Converting everything to uppercase will make it easy to make \n",
    "# some changes in the future\n",
    "\n",
    "df['Gender'] = df['Gender'].str.upper()\n",
    "df['BP'] = df['BP'].str.upper()\n",
    "df['Cholesterol'] = df['Cholesterol'].str.upper()\n",
    "df['Drug'] = df['Drug'].str.upper()\n",
    "df['Drug'] = df['Drug'] = df['Drug'].str.lstrip('DRUG')"
   ]
  },
  {
   "cell_type": "code",
   "execution_count": 13,
   "metadata": {},
   "outputs": [],
   "source": [
    "# Applied all the modifications listed above about the format and the level of the varibales\n",
    "# Now that data is clened and formated we can contiue with our analysis\n",
    "\n",
    "df['Age'] = df['Age'].replace([570],57)\n",
    "df['Gender'] = df['Gender'].replace(['FEMAL'],'F')\n",
    "df['Gender'] = df['Gender'].replace(['FEMALE'],'F')\n",
    "df['Gender'] = df['Gender'].replace(['MALE'],'M')\n",
    "df['Na_to_K'] = df['Na_to_K'].replace(['9.712_'],'9.712')\n",
    "df['Na_to_K'] = df['Na_to_K'].replace(['10.403_'],'10.403')\n",
    "df['BP'] = df['BP'].replace(['L0W'],'LOW')\n",
    "df['Cholesterol'] = df['Cholesterol'].replace(['NORM'],'NORMAL')"
   ]
  },
  {
   "cell_type": "code",
   "execution_count": 14,
   "metadata": {},
   "outputs": [],
   "source": [
    "df['Na_to_K'] = df['Na_to_K'].astype(float)"
   ]
  },
  {
   "cell_type": "markdown",
   "metadata": {},
   "source": [
    "## PART 2"
   ]
  },
  {
   "cell_type": "code",
   "execution_count": 15,
   "metadata": {},
   "outputs": [
    {
     "data": {
      "text/plain": [
       "HIGH      77\n",
       "LOW       62\n",
       "NORMAL    59\n",
       "Name: BP, dtype: int64"
      ]
     },
     "execution_count": 15,
     "metadata": {},
     "output_type": "execute_result"
    },
    {
     "data": {
      "image/png": "[encoded data removed]",
      "text/plain": [
       "<Figure size 1080x360 with 2 Axes>"
      ]
     },
     "metadata": {
      "needs_background": "light"
     },
     "output_type": "display_data"
    }
   ],
   "source": [
    "#Checking if there is any pattern between type of Drug and Blood Pressure\n",
    "\n",
    "plt.figure(figsize=(15,5))\n",
    "plt.subplot(1,2,1)\n",
    "df['Drug'].value_counts().plot.pie(autopct='%1.1f%%')\n",
    "plt.subplot(1,2,2)\n",
    "sns.countplot(df['BP'])\n",
    "df['BP'].value_counts()"
   ]
  },
  {
   "cell_type": "code",
   "execution_count": 16,
   "metadata": {},
   "outputs": [
    {
     "data": {
      "text/plain": [
       "<matplotlib.axes._subplots.AxesSubplot at 0x2b9deb12bc8>"
      ]
     },
     "execution_count": 16,
     "metadata": {},
     "output_type": "execute_result"
    },
    {
     "data": {
      "image/png": "[encoded data removed]",
      "text/plain": [
       "<Figure size 432x288 with 3 Axes>"
      ]
     },
     "metadata": {
      "needs_background": "light"
     },
     "output_type": "display_data"
    }
   ],
   "source": [
    "# Checking the relationship that our target variable has with the other categorical variables\n",
    "\n",
    "fig, axs = plt.subplots(ncols=3)\n",
    "fig.subplots_adjust(top=3,bottom=2,right=3)\n",
    "sns.countplot(x='Drug', hue = \"BP\", data=df, ax=axs[0])\n",
    "sns.countplot(x='Drug', hue = 'Gender', data=df, ax=axs[1])\n",
    "sns.countplot(x='Drug',hue = 'Cholesterol', data=df, ax=axs[2])"
   ]
  },
  {
   "cell_type": "code",
   "execution_count": 17,
   "metadata": {},
   "outputs": [],
   "source": [
    "# Select the categorical variables\n",
    "cols = ['Gender','BP','Cholesterol','Drug']\n",
    "\n",
    "\n",
    "# Transform the categorical variables to (0,1) format\n",
    "for col in cols:\n",
    "    le = LabelEncoder()\n",
    "    df[col] = le.fit_transform(df[col])"
   ]
  },
  {
   "cell_type": "code",
   "execution_count": 18,
   "metadata": {},
   "outputs": [],
   "source": [
    "# For the non categorical variables have decided to do\n",
    "# scaling of these varibles because Since the range of values of raw data varies widely, \n",
    "# in some machine learning algorithms, objective functions do not work correctly without normalization.\n",
    "\n",
    "scaling = MinMaxScaler()\n",
    "ncols = ['Age','Na_to_K']\n",
    "\n",
    "df[ncols] = scaling.fit_transform(df[ncols])"
   ]
  },
  {
   "cell_type": "code",
   "execution_count": 19,
   "metadata": {},
   "outputs": [],
   "source": [
    "# Correlation plot to check the relations of the variables between them\n",
    "\n",
    "#fig, ax = plt.subplots(figsize  = (10, 10))\n",
    "#sns.heatmap(df.corr(), cmap = 'BuPu', cbar = True, linewidth = 0.5, annot = True, ax = ax)\n",
    "#plt.show()"
   ]
  },
  {
   "cell_type": "code",
   "execution_count": 20,
   "metadata": {},
   "outputs": [],
   "source": [
    "# Assigning Y (target variable) that for us is Drug and X the rest Y~X\n",
    "\n",
    "X = df.drop('Drug', axis = 1)\n",
    "Y = df['Drug']"
   ]
  },
  {
   "cell_type": "code",
   "execution_count": 21,
   "metadata": {},
   "outputs": [],
   "source": [
    "#Train and Test split\n",
    "\n",
    "X_train, X_test, y_train, y_test = train_test_split( X, Y, random_state=42)"
   ]
  },
  {
   "cell_type": "code",
   "execution_count": 22,
   "metadata": {},
   "outputs": [
    {
     "name": "stdout",
     "output_type": "stream",
     "text": [
      "X_train (148, 5)\n",
      "X_test (50, 5)\n",
      "y_train (148,)\n",
      "y_test (50,)\n"
     ]
    }
   ],
   "source": [
    "# Checking the proportion of data\n",
    "\n",
    "print('X_train',X_train.shape)\n",
    "print('X_test',X_test.shape)\n",
    "print('y_train',y_train.shape)\n",
    "print('y_test',y_test.shape)"
   ]
  },
  {
   "cell_type": "code",
   "execution_count": 30,
   "metadata": {},
   "outputs": [
    {
     "name": "stdout",
     "output_type": "stream",
     "text": [
      "Acc : 0.98\n",
      "F1 : 0.9580952380952381\n",
      "[[ 7  0  0  0  0]\n",
      " [ 1  3  0  0  0]\n",
      " [ 0  0  3  0  0]\n",
      " [ 0  0  0 12  0]\n",
      " [ 0  0  0  0 24]]\n",
      "              precision    recall  f1-score   support\n",
      "\n",
      "           0       0.88      1.00      0.93         7\n",
      "           1       1.00      0.75      0.86         4\n",
      "           2       1.00      1.00      1.00         3\n",
      "           3       1.00      1.00      1.00        12\n",
      "           4       1.00      1.00      1.00        24\n",
      "\n",
      "    accuracy                           0.98        50\n",
      "   macro avg       0.97      0.95      0.96        50\n",
      "weighted avg       0.98      0.98      0.98        50\n",
      "\n"
     ]
    }
   ],
   "source": [
    "# Decition Tree \n",
    "\n",
    "dt = DT(criterion = 'entropy').fit(X_train, y_train)\n",
    "\n",
    "y_pred = dt.predict(X_test)\n",
    "\n",
    "DT_score = accuracy_score(y_test, y_pred)\n",
    "\n",
    "print(f'Acc : {accuracy_score(y_test, y_pred)}')\n",
    "print(f'F1 : {f1_score(y_test, y_pred, average = \"macro\")}')\n",
    "      \n",
    "print(confusion_matrix(y_test, y_pred))\n",
    "print(classification_report(y_test, y_pred))"
   ]
  },
  {
   "cell_type": "code",
   "execution_count": 31,
   "metadata": {},
   "outputs": [
    {
     "name": "stdout",
     "output_type": "stream",
     "text": [
      "100.0\n",
      "96.0\n",
      "[[ 7  0  0  0  0]\n",
      " [ 1  3  0  0  0]\n",
      " [ 0  0  2  1  0]\n",
      " [ 0  0  0 12  0]\n",
      " [ 0  0  0  0 24]]\n",
      "              precision    recall  f1-score   support\n",
      "\n",
      "           0       0.88      1.00      0.93         7\n",
      "           1       1.00      0.75      0.86         4\n",
      "           2       1.00      0.67      0.80         3\n",
      "           3       0.92      1.00      0.96        12\n",
      "           4       1.00      1.00      1.00        24\n",
      "\n",
      "    accuracy                           0.96        50\n",
      "   macro avg       0.96      0.88      0.91        50\n",
      "weighted avg       0.96      0.96      0.96        50\n",
      "\n"
     ]
    }
   ],
   "source": [
    "# Random Forest\n",
    "\n",
    "Random_class = RandomForestClassifier(n_estimators=200, criterion='gini', max_depth=4, random_state = 1)\n",
    "\n",
    "Random_class.fit(X_train, y_train)\n",
    "\n",
    "y_pred = Random_class.predict(X_test)\n",
    "\n",
    "print(Random_class.score(X_train,y_train)*100)\n",
    "\n",
    "Forest_score = accuracy_score(y_test, y_pred)\n",
    "\n",
    "print(Forest_score*100)\n",
    "print(confusion_matrix(y_test, y_pred))\n",
    "print(classification_report(y_test, y_pred))"
   ]
  },
  {
   "cell_type": "code",
   "execution_count": 34,
   "metadata": {},
   "outputs": [
    {
     "name": "stdout",
     "output_type": "stream",
     "text": [
      "86.0\n",
      "[[ 6  0  0  0  1]\n",
      " [ 1  3  0  0  0]\n",
      " [ 0  0  3  0  0]\n",
      " [ 0  0  0 11  1]\n",
      " [ 1  1  0  2 20]]\n",
      "              precision    recall  f1-score   support\n",
      "\n",
      "           0       0.75      0.86      0.80         7\n",
      "           1       0.75      0.75      0.75         4\n",
      "           2       1.00      1.00      1.00         3\n",
      "           3       0.85      0.92      0.88        12\n",
      "           4       0.91      0.83      0.87        24\n",
      "\n",
      "    accuracy                           0.86        50\n",
      "   macro avg       0.85      0.87      0.86        50\n",
      "weighted avg       0.86      0.86      0.86        50\n",
      "\n"
     ]
    }
   ],
   "source": [
    "# K-nearest neighbors algorithm\n",
    "\n",
    "KNN_class = KNeighborsClassifier(n_neighbors = 3)\n",
    "\n",
    "KNN_class.fit(X_train, y_train)\n",
    "y_pred = KNN_class.predict(X_test)\n",
    "\n",
    "\n",
    "KNN_score = accuracy_score(y_test, y_pred)\n",
    "\n",
    "print(KNN_score*100)\n",
    "print(confusion_matrix(y_test, y_pred))\n",
    "print(classification_report(y_test, y_pred))"
   ]
  },
  {
   "cell_type": "code",
   "execution_count": 35,
   "metadata": {},
   "outputs": [],
   "source": [
    "x = ['Forest_score', 'DT_score','KNN_score']\n",
    "y = [Forest_score, DT_score, KNN_score]"
   ]
  },
  {
   "cell_type": "code",
   "execution_count": 36,
   "metadata": {},
   "outputs": [
    {
     "data": {
      "text/plain": [
       "Text(0.5, 1.03, 'Multiple Classification Models Plot')"
      ]
     },
     "execution_count": 36,
     "metadata": {},
     "output_type": "execute_result"
    },
    {
     "data": {
      "image/png": "[encoded data removed]",
      "text/plain": [
       "<Figure size 432x288 with 1 Axes>"
      ]
     },
     "metadata": {
      "needs_background": "light"
     },
     "output_type": "display_data"
    }
   ],
   "source": [
    "sns.barplot(x = x, y = y)\n",
    "plt.ylabel('model accurecy')\n",
    "plt.xlabel('models name')\n",
    "plt.xticks(rotation = 30)\n",
    "plt.title(\"Multiple Classification Models Plot\", fontsize=15, y=1.03)"
   ]
  },
  {
   "cell_type": "code",
   "execution_count": null,
   "metadata": {},
   "outputs": [],
   "source": [
    "# Choosing different models to see if there was any difference in the performance and we can notice that \n",
    "# Random Forest and Decision Tree algorithms are doing 96 and 98% of accuracy \n",
    "# Behind them is KNN algorithm with 86% which is still a very good prediction and \n"
   ]
  }
 ],
 "metadata": {
  "kernelspec": {
   "display_name": "Python 3",
   "language": "python",
   "name": "python3"
  },
  "language_info": {
   "codemirror_mode": {
    "name": "ipython",
    "version": 3
   },
   "file_extension": ".py",
   "mimetype": "text/x-python",
   "name": "python",
   "nbconvert_exporter": "python",
   "pygments_lexer": "ipython3",
   "version": "3.7.4"
  }
 },
 "nbformat": 4,
 "nbformat_minor": 2
}
