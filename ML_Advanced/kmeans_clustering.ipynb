{
 "cells": [
  {
   "cell_type": "code",
   "execution_count": null,
   "metadata": {},
   "outputs": [],
   "source": [
    "# Imports\n",
    "import numpy as np\n",
    "import pandas as pd\n",
    "import matplotlib.pyplot as plt\n",
    "from sklearn.preprocessing import StandardScaler\n",
    "from sklearn.cluster import KMeans\n",
    "\n",
    "wine = pd.read_csv('https://s3.us-east-1.amazonaws.com/General_V88/boomyeah2015/codingdojo/curriculum/content/chapter/1613254703__modified_wine.csv')\n",
    "df = wine[['malic_acid', 'flavanoids']]\n",
    "df.head()"
   ]
  },
  {
   "cell_type": "code",
   "execution_count": null,
   "metadata": {},
   "outputs": [],
   "source": [
    "# Instantiate Standard Scaler\n",
    "scaler = StandardScaler()\n",
    "# Fit & transform data.\n",
    "scaled_df = scaler.fit_transform(df)"
   ]
  },
  {
   "cell_type": "markdown",
   "metadata": {},
   "source": [
    "### KMeans  \n",
    "One of the drawbacks of the KMeans algorithm is that there is no clear way to determine how many clusters to use. In the graph below,\n",
    "we can visually check how many clusters we think we should have since our data is only 2-dimensional.\n",
    "\n",
    "### Note: KMeans can fit on any number of columns!  \n",
    "In this example we are only fitting on two columns for the purpose of plotting, however, realistically, most of the data we work with will be\n",
    "multi-dimensional. If possible, we can use domain knowledge or work with a subject matter expert to determine which features we\n",
    "\n",
    "should include and how many clusters are reasonable. We can also use scores such as the Silhouette Score to determine how well-\n",
    "defined our clusters are -- more on this later."
   ]
  },
  {
   "cell_type": "code",
   "execution_count": null,
   "metadata": {},
   "outputs": [],
   "source": [
    "# Visualize data\n",
    "plt.scatter(df['malic_acid'], df['flavanoids'])\n",
    "plt.xlabel('Malic Acid')\n",
    "plt.ylabel('Flavanoids');"
   ]
  },
  {
   "cell_type": "code",
   "execution_count": null,
   "metadata": {},
   "outputs": [],
   "source": [
    "# Instantiate KMeans\n",
    "kmeans = KMeans(n_clusters = 2)\n",
    "kmeans.fit(scaled_df)\n",
    "# Save the cluster labels to the dataframe\n",
    "df['cluster'] = kmeans.labels_\n",
    "# Visualize the clusters\n",
    "plt.scatter(df['malic_acid'], df['flavanoids'], c = df['cluster'])\n",
    "plt.xlabel('Malic Acid')\n",
    "plt.ylabel('Flavanoids')\n",
    "plt.title('Clusters of Wine Varieties');"
   ]
  },
  {
   "cell_type": "code",
   "execution_count": null,
   "metadata": {},
   "outputs": [],
   "source": [
    "# Nice! We've just used the KMeans algorithm to cluster our data into two different groups of wine! Something important to note is that you\n",
    "# may occasionally get data points in unexpected clusters (like the two yellow points in the graph above that appear to fit better in the\n",
    "# purple cluster). This can happen because of the random initialization of the centroids in the algorithm!"
   ]
  }
 ],
 "metadata": {
  "language_info": {
   "name": "python"
  }
 },
 "nbformat": 4,
 "nbformat_minor": 2
}
