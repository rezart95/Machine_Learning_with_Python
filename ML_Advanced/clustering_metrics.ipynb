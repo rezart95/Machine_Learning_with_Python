{
 "cells": [
  {
   "cell_type": "markdown",
   "metadata": {},
   "source": [
    "Clustering Evaluation Metrics\n",
    "In unsupervised learning techniques, such as clustering, there is really no reasonable way to measure how good our predictions are since we do not have any true labels to compare to\n",
    "our predictions.\n",
    "For example, let's say you and your friend are in charge of clustering various restaurants together. You group restaurants based on the type of food that is served and your friend\n",
    "groups the restaurants based on ratings. Which of these clustering techniques is correct? Is there even a correct technique?\n",
    "We kind of get around this by creating heuristic metrics to evaluate our clusters that allow us to compare models. However, this is still not perfect and we may never be able to know\n",
    "how good our models are. It is important to consider working with Subject Matter Experts to confirm the results of your algorithm and think critically about decisions made as a result of\n",
    "your algorithm."
   ]
  },
  {
   "cell_type": "code",
   "execution_count": 1,
   "metadata": {},
   "outputs": [],
   "source": [
    "# Imports\n",
    "import numpy as np\n",
    "import matplotlib.pyplot as plt\n",
    "import pandas as pd\n",
    "from sklearn.preprocessing import StandardScaler\n",
    "from sklearn.cluster import KMeans\n",
    "from sklearn.metrics import silhouette_score"
   ]
  },
  {
   "cell_type": "code",
   "execution_count": 3,
   "metadata": {},
   "outputs": [
    {
     "ename": "TypeError",
     "evalue": "read_csv() missing 1 required positional argument: 'filepath_or_buffer'",
     "output_type": "error",
     "traceback": [
      "\u001b[1;31m---------------------------------------------------------------------------\u001b[0m",
      "\u001b[1;31mTypeError\u001b[0m                                 Traceback (most recent call last)",
      "\u001b[1;32mc:\\Users\\User\\github_projects\\Machine_Learning_with_Python\\ML_Advanced\\clustering_metrics.ipynb Cell 3\u001b[0m line \u001b[0;36m1\n\u001b[1;32m----> <a href='vscode-notebook-cell:/c%3A/Users/User/github_projects/Machine_Learning_with_Python/ML_Advanced/clustering_metrics.ipynb#W3sZmlsZQ%3D%3D?line=0'>1</a>\u001b[0m wine \u001b[39m=\u001b[39m pd\u001b[39m.\u001b[39;49mread_csv()\n\u001b[0;32m      <a href='vscode-notebook-cell:/c%3A/Users/User/github_projects/Machine_Learning_with_Python/ML_Advanced/clustering_metrics.ipynb#W3sZmlsZQ%3D%3D?line=1'>2</a>\u001b[0m df \u001b[39m=\u001b[39m wine[[\u001b[39m'\u001b[39m\u001b[39mmalic_acid\u001b[39m\u001b[39m'\u001b[39m, \u001b[39m'\u001b[39m\u001b[39mflavanoids\u001b[39m\u001b[39m'\u001b[39m]]\n\u001b[0;32m      <a href='vscode-notebook-cell:/c%3A/Users/User/github_projects/Machine_Learning_with_Python/ML_Advanced/clustering_metrics.ipynb#W3sZmlsZQ%3D%3D?line=2'>3</a>\u001b[0m df\u001b[39m.\u001b[39mhead()\n",
      "\u001b[1;31mTypeError\u001b[0m: read_csv() missing 1 required positional argument: 'filepath_or_buffer'"
     ]
    }
   ],
   "source": [
    "wine = pd.read_csv()\n",
    "df = wine[['malic_acid', 'flavanoids']]\n",
    "df.head()"
   ]
  }
 ],
 "metadata": {
  "kernelspec": {
   "display_name": "base",
   "language": "python",
   "name": "python3"
  },
  "language_info": {
   "codemirror_mode": {
    "name": "ipython",
    "version": 3
   },
   "file_extension": ".py",
   "mimetype": "text/x-python",
   "name": "python",
   "nbconvert_exporter": "python",
   "pygments_lexer": "ipython3",
   "version": "3.11.5"
  }
 },
 "nbformat": 4,
 "nbformat_minor": 2
}
