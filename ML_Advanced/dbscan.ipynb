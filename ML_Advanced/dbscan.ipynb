{
 "cells": [
  {
   "cell_type": "markdown",
   "metadata": {},
   "source": [
    "DBSCAN\n",
    "DBSCAN (Density-Based Spatial Clustering of Applications with Noise) is an algorithm used for clustering.\n",
    "This is a useful algorithm to group high density clusters together, while ignoring data points that may not fit in a cluster (called \"noise). We choose two hyperparameters within this algorithm:\n",
    " Epsilon or eps (ε): You can think of this as a radius that the algorithm searches around a data point to consider adding the data point to its cluster. It is the maximum distance between two samples for\n",
    "one to be considered as in the neighborhood of the other. Two points are considered to be in the same cluster if the distance between the two points is below the threshold epsilon.  min_samples: The minimum number of points needed to create a cluster.\n",
    "The algorithm works by:\n",
    "1. Picking a random data point to be in a cluster.\n",
    "2. Looking at the points within eps distance from the point in step 1. If there are at least min_samples number of data points, these get assigned to that cluster.\n",
    "3. It then looks at each point in the cluster and the points within eps distance of each point get added to the cluster.\n",
    "4. Repeats step 3 until there are no more neighbors within eps distance of each point in the cluster.\n",
    "5. Repeat steps 1-4 for each additional cluster.\n",
    "6. Points that do not meet the distance or min_samples criteria are marked as \"noise\" and are not included as part of a cluster.\n",
    "One benefit of DBSCAN is that you do not need to choose the number of clusters ahead of time, it will find the optimal number of clusters on its own. DBSCAN also produces better results than other\n",
    "clustering algorithms like KMeans for data points where density is more explanatory for clusters than distance. The below image illustrates this:"
   ]
  },
  {
   "cell_type": "code",
   "execution_count": null,
   "metadata": {},
   "outputs": [],
   "source": [
    "# Imports\n",
    "import numpy as np\n",
    "import matplotlib.pyplot as plt\n",
    "import pandas as pd\n",
    "from sklearn.preprocessing import StandardScaler\n",
    "from sklearn.cluster import DBSCAN\n",
    "\n",
    "# Load Dataset\n",
    "wine = pd.read_csv('/content/drive/path_to_data/modified_wine.csv')\n",
    "df = wine[['malic_acid', 'flavanoids']]\n",
    "df.head()"
   ]
  },
  {
   "cell_type": "code",
   "execution_count": 1,
   "metadata": {},
   "outputs": [
    {
     "ename": "NameError",
     "evalue": "name 'StandardScaler' is not defined",
     "output_type": "error",
     "traceback": [
      "\u001b[1;31m---------------------------------------------------------------------------\u001b[0m",
      "\u001b[1;31mNameError\u001b[0m                                 Traceback (most recent call last)",
      "\u001b[1;32mc:\\Users\\User\\github_projects\\Machine_Learning_with_Python\\ML_Advanced\\dbscan.ipynb Cell 3\u001b[0m line \u001b[0;36m4\n\u001b[0;32m      <a href='vscode-notebook-cell:/c%3A/Users/User/github_projects/Machine_Learning_with_Python/ML_Advanced/dbscan.ipynb#W2sZmlsZQ%3D%3D?line=0'>1</a>\u001b[0m \u001b[39m# Scale data\u001b[39;00m\n\u001b[0;32m      <a href='vscode-notebook-cell:/c%3A/Users/User/github_projects/Machine_Learning_with_Python/ML_Advanced/dbscan.ipynb#W2sZmlsZQ%3D%3D?line=1'>2</a>\u001b[0m \n\u001b[0;32m      <a href='vscode-notebook-cell:/c%3A/Users/User/github_projects/Machine_Learning_with_Python/ML_Advanced/dbscan.ipynb#W2sZmlsZQ%3D%3D?line=2'>3</a>\u001b[0m \u001b[39m# Instantiate Standard Scaler\u001b[39;00m\n\u001b[1;32m----> <a href='vscode-notebook-cell:/c%3A/Users/User/github_projects/Machine_Learning_with_Python/ML_Advanced/dbscan.ipynb#W2sZmlsZQ%3D%3D?line=3'>4</a>\u001b[0m scaler \u001b[39m=\u001b[39m StandardScaler()\n\u001b[0;32m      <a href='vscode-notebook-cell:/c%3A/Users/User/github_projects/Machine_Learning_with_Python/ML_Advanced/dbscan.ipynb#W2sZmlsZQ%3D%3D?line=5'>6</a>\u001b[0m \u001b[39m# Fit & transform data.\u001b[39;00m\n\u001b[0;32m      <a href='vscode-notebook-cell:/c%3A/Users/User/github_projects/Machine_Learning_with_Python/ML_Advanced/dbscan.ipynb#W2sZmlsZQ%3D%3D?line=6'>7</a>\u001b[0m scaled_df \u001b[39m=\u001b[39m scaler\u001b[39m.\u001b[39mfit_transform(df)\n",
      "\u001b[1;31mNameError\u001b[0m: name 'StandardScaler' is not defined"
     ]
    }
   ],
   "source": [
    "# Scale data\n",
    "\n",
    "# Instantiate Standard Scaler\n",
    "scaler = StandardScaler()\n",
    "\n",
    "# Fit & transform data.\n",
    "scaled_df = scaler.fit_transform(df)"
   ]
  },
  {
   "cell_type": "code",
   "execution_count": null,
   "metadata": {},
   "outputs": [],
   "source": [
    "# Instantiate & fit clustering - this is done in one step for DBSCAN\n",
    "dbs = DBSCAN(eps = 0.5, min_samples = 5).fit(scaled_df)\n",
    "\n",
    "# Save the cluster lables to the dataframe\n",
    "df['cluster'] = dbs.labels_\n",
    "\n",
    "\n",
    "# Visualize the clusters\n",
    "plt.scatter(df['malic_acid'], df['flavanoids'], c = df['cluster'])\n",
    "plt.xlabel('Malic Acid')\n",
    "plt.ylabel('Flavanoids')\n",
    "plt.title('Clusters of Wine Varieties');"
   ]
  }
 ],
 "metadata": {
  "kernelspec": {
   "display_name": "base",
   "language": "python",
   "name": "python3"
  },
  "language_info": {
   "codemirror_mode": {
    "name": "ipython",
    "version": 3
   },
   "file_extension": ".py",
   "mimetype": "text/x-python",
   "name": "python",
   "nbconvert_exporter": "python",
   "pygments_lexer": "ipython3",
   "version": "3.11.5"
  }
 },
 "nbformat": 4,
 "nbformat_minor": 2
}
