{
 "cells": [
  {
   "cell_type": "markdown",
   "metadata": {},
   "source": [
    "### Intro to Deep Learning\n",
    "Deep learning is a subset of machine learning that has become increasingly popular in recent years due to its performance along with\n",
    "improved computer speed, memory, and power.\n",
    "There are many types of artificial neural networks including feed-forward, convolutional, and recurrent. In general, artificial neural\n",
    "networks have an input layer to take in each of your features, some number of hidden layers, and an output layer.\n",
    "\n",
    "They can be used for both regression and classification and work very well on big data.\n",
    "\n",
    "### How Neural Networks are Fit\n",
    "In a forward pass of a neural network, we run our data through a number of layers, each consisting of a number of neurons or nodes.\n",
    "In general, a forward pass through a neural network works through this process:  \n",
    "1. Take our inputs and multiply each input by a weight.  \n",
    "2. Add the results from step 1 together.  \n",
    "3. Add a value (called bias) to the result from step 2.  \n",
    "4. Pass the result from step 3 through an activation function.  \n",
    "5. The result from step 4 is then passed to the next layer, where the process is repeated.  \n",
    "The weights and biases are then updated through a process called backpropagation. Since this relies heavily on calculus, we will not\n",
    "dive into it in too much detail, but it is important to understand at a high level. Check out the optional resources at the end of this chapter\n",
    "if you would like to dive deeper into this.\n",
    "Just like in any machine learning algorithm, we are trying to minimize a loss function. In the case of neural networks, we are trying to\n",
    "find the values for weights and biases that minimize the loss function.\n",
    "A complete forward and backward pass of all of our data points is called one epoch. The more epochs we train our model for, the better\n",
    "job our model will do at learning the weights and biases that minimize the loss function for our training data.\n",
    "It is important to be aware of overfitting, a common problem for neural networks.\n",
    "It is up to you to decide how many neurons and layers you use in your neural network. You can play around with what this will look like\n",
    "and visualize the training process of a neural network here."
   ]
  }
 ],
 "metadata": {
  "language_info": {
   "name": "python"
  }
 },
 "nbformat": 4,
 "nbformat_minor": 2
}
