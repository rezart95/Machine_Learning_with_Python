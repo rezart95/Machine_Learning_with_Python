{
 "cells": [
  {
   "cell_type": "code",
   "execution_count": 7,
   "metadata": {},
   "outputs": [],
   "source": [
    "import numpy as np\n",
    "import matplotlib.pyplot as plt\n",
    "import pandas as pd\n",
    "from sklearn.preprocessing import StandardScaler\n",
    "from sklearn.model_selection import train_test_split\n",
    "from sklearn.ensemble import GradientBoostingClassifier"
   ]
  },
  {
   "cell_type": "code",
   "execution_count": 12,
   "metadata": {},
   "outputs": [],
   "source": [
    "# df = pd.read_csv('YOURPATH', index_col = 'id')\n",
    "df = pd.read_csv('C:/Users/User/Desktop/breast_cancer_dataset.csv', index_col='id')\n",
    "df.columns\n",
    "\n",
    "\n",
    "# Drop unnecessary column\n",
    "df.drop(columns='Unnamed: 32', inplace=True)\n",
    "\n",
    "# Binarize target column\n",
    "df['diagnosis'] = df['diagnosis'].map({'M':1, 'B':0})\n",
    "\n",
    "# Feture data\n",
    "X = df.drop(columns='diagnosis')\n",
    "\n",
    "# Target Variable\n",
    "y = df['diagnosis']\n",
    "\n",
    "\n",
    "# Train Test Split\n",
    "X_train, X_test, y_train, y_test = train_test_split(X,y, random_state=3)"
   ]
  },
  {
   "cell_type": "code",
   "execution_count": 17,
   "metadata": {},
   "outputs": [
    {
     "name": "stdout",
     "output_type": "stream",
     "text": [
      "Training accuracy: 1.0\n",
      "Testing accuracy: 0.9440559440559441\n"
     ]
    }
   ],
   "source": [
    "# Instantiate and fit gradient boosting classifier\n",
    "gbc = GradientBoostingClassifier()\n",
    "gbc.fit(X_train, y_train)\n",
    "\n",
    "\n",
    "# Evaluate model\n",
    "\n",
    "print('Training accuracy:', gbc.score(X_train, y_train))\n",
    "print('Testing accuracy:',  gbc.score(X_test, y_test))"
   ]
  }
 ],
 "metadata": {
  "kernelspec": {
   "display_name": "base",
   "language": "python",
   "name": "python3"
  },
  "language_info": {
   "codemirror_mode": {
    "name": "ipython",
    "version": 3
   },
   "file_extension": ".py",
   "mimetype": "text/x-python",
   "name": "python",
   "nbconvert_exporter": "python",
   "pygments_lexer": "ipython3",
   "version": "3.10.10"
  },
  "orig_nbformat": 4
 },
 "nbformat": 4,
 "nbformat_minor": 2
}
