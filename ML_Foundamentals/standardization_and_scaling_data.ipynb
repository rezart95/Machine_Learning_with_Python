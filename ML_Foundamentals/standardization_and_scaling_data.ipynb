{
 "cells": [
  {
   "cell_type": "markdown",
   "metadata": {},
   "source": [
    "Why Standardize or Scale Data?\n",
    "Machine learning is a difficult subject to learn because not only can you have programming errors, but errors in a lot of different areas.\n",
    "One common error is an error in failing to understand the assumptions of a machine learning model.\n",
    "A common assumption in many types of models that your data is scaled appropriately.\n",
    "Terms to Know\n",
    "Scale\n",
    "Generally means to change the range of the values. The shape of the distribution doesn’t change. Think about how a scale model of a\n",
    "building has the same proportions as the original, just smaller. That’s why we say it is \"drawn to scale\".\n",
    "\n",
    "Standardize\n",
    "Standardizing is one of several kinds of scaling. It means scaling the values so that the distribution has a standard deviation of 1 with a\n",
    "mean of 0. It outputs something very close to a normal distribution.\n",
    "Note:\n",
    "Scaled values lose their original units. Dollars are no longer in dollar units, meters are no longer in meter units, etc.\n",
    "\n",
    "The Math\n",
    "Standardization is calculated as:\n",
    "standardized_feature = (feature - mean_of_feature) / std_dev_of_feature"
   ]
  },
  {
   "cell_type": "markdown",
   "metadata": {},
   "source": [
    "Standardizing Data in Python\n",
    "In Python you can scale data by using Scikit-learn's StandardScaler.\n",
    "To avoid data leakage, the scaler should be fit on only the training set. When the scaler fits on data it calculates the means and standard\n",
    "deviations of each feature. Then the scaler can be used to transform both the training and test sets based on the calculations done\n",
    "during the fit step. This means that the average and variance (standard deviation) will be calculated using only the training data\n",
    "because we want to keep information in the test data, including information about means and variances, reserved for only final model\n",
    "evaluation. The scaling of target values (y) is generally not required.\n",
    "The code below can be used to to standardize your data."
   ]
  },
  {
   "cell_type": "code",
   "execution_count": 1,
   "metadata": {},
   "outputs": [
    {
     "data": {
      "text/html": [
       "<div>\n",
       "<style scoped>\n",
       "    .dataframe tbody tr th:only-of-type {\n",
       "        vertical-align: middle;\n",
       "    }\n",
       "\n",
       "    .dataframe tbody tr th {\n",
       "        vertical-align: top;\n",
       "    }\n",
       "\n",
       "    .dataframe thead th {\n",
       "        text-align: right;\n",
       "    }\n",
       "</style>\n",
       "<table border=\"1\" class=\"dataframe\">\n",
       "  <thead>\n",
       "    <tr style=\"text-align: right;\">\n",
       "      <th></th>\n",
       "      <th>Sold</th>\n",
       "      <th>SqFt</th>\n",
       "      <th>Price</th>\n",
       "    </tr>\n",
       "  </thead>\n",
       "  <tbody>\n",
       "    <tr>\n",
       "      <th>0</th>\n",
       "      <td>1</td>\n",
       "      <td>200</td>\n",
       "      <td>906442</td>\n",
       "    </tr>\n",
       "    <tr>\n",
       "      <th>1</th>\n",
       "      <td>0</td>\n",
       "      <td>425</td>\n",
       "      <td>272629</td>\n",
       "    </tr>\n",
       "    <tr>\n",
       "      <th>2</th>\n",
       "      <td>1</td>\n",
       "      <td>675</td>\n",
       "      <td>824862</td>\n",
       "    </tr>\n",
       "    <tr>\n",
       "      <th>3</th>\n",
       "      <td>1</td>\n",
       "      <td>984</td>\n",
       "      <td>720344</td>\n",
       "    </tr>\n",
       "    <tr>\n",
       "      <th>4</th>\n",
       "      <td>0</td>\n",
       "      <td>727</td>\n",
       "      <td>879679</td>\n",
       "    </tr>\n",
       "  </tbody>\n",
       "</table>\n",
       "</div>"
      ],
      "text/plain": [
       "   Sold  SqFt   Price\n",
       "0     1   200  906442\n",
       "1     0   425  272629\n",
       "2     1   675  824862\n",
       "3     1   984  720344\n",
       "4     0   727  879679"
      ]
     },
     "execution_count": 1,
     "metadata": {},
     "output_type": "execute_result"
    }
   ],
   "source": [
    "# Import Libraries\n",
    "import pandas as pd\n",
    "import numpy as np\n",
    "from sklearn.preprocessing import StandardScaler\n",
    "from sklearn.model_selection import train_test_split\n",
    "\n",
    "# Load Data\n",
    "path = r\"C:\\Users\\User\\github_projects\\Machine_Learning_with_Python\\datasets\\apartments.csv\"\n",
    "df = pd.read_csv(path)\n",
    "df.head()"
   ]
  },
  {
   "cell_type": "code",
   "execution_count": 2,
   "metadata": {},
   "outputs": [],
   "source": [
    "# Assign Target y and Features X\n",
    "# The target is the 'Sold' column which indicates whether the apartment sold within 2 weeks of being listed. The features are the square\n",
    "# footage and list price of the apartment.\n",
    "# Assign the target column as y\n",
    "y = df['Sold']\n",
    "# Assign the rest of the columns as X\n",
    "X = df.drop(columns = 'Sold')\n",
    "# Train Test Split for Model Validation\n",
    "# Now we will split the data into a training set and testing set.\n",
    "# train/test split\n",
    "X_train, X_test, y_train, y_test = train_test_split(X, y, random_state=42)"
   ]
  },
  {
   "cell_type": "code",
   "execution_count": 5,
   "metadata": {},
   "outputs": [
    {
     "data": {
      "text/html": [
       "<div>\n",
       "<style scoped>\n",
       "    .dataframe tbody tr th:only-of-type {\n",
       "        vertical-align: middle;\n",
       "    }\n",
       "\n",
       "    .dataframe tbody tr th {\n",
       "        vertical-align: top;\n",
       "    }\n",
       "\n",
       "    .dataframe thead th {\n",
       "        text-align: right;\n",
       "    }\n",
       "</style>\n",
       "<table border=\"1\" class=\"dataframe\">\n",
       "  <thead>\n",
       "    <tr style=\"text-align: right;\">\n",
       "      <th></th>\n",
       "      <th>SqFt</th>\n",
       "      <th>Price</th>\n",
       "    </tr>\n",
       "  </thead>\n",
       "  <tbody>\n",
       "    <tr>\n",
       "      <th>count</th>\n",
       "      <td>75.0</td>\n",
       "      <td>75.0</td>\n",
       "    </tr>\n",
       "    <tr>\n",
       "      <th>mean</th>\n",
       "      <td>564.0</td>\n",
       "      <td>524950.0</td>\n",
       "    </tr>\n",
       "    <tr>\n",
       "      <th>std</th>\n",
       "      <td>285.0</td>\n",
       "      <td>274185.0</td>\n",
       "    </tr>\n",
       "    <tr>\n",
       "      <th>min</th>\n",
       "      <td>114.0</td>\n",
       "      <td>109277.0</td>\n",
       "    </tr>\n",
       "    <tr>\n",
       "      <th>25%</th>\n",
       "      <td>320.0</td>\n",
       "      <td>272804.0</td>\n",
       "    </tr>\n",
       "    <tr>\n",
       "      <th>50%</th>\n",
       "      <td>588.0</td>\n",
       "      <td>503613.0</td>\n",
       "    </tr>\n",
       "    <tr>\n",
       "      <th>75%</th>\n",
       "      <td>836.0</td>\n",
       "      <td>786078.0</td>\n",
       "    </tr>\n",
       "    <tr>\n",
       "      <th>max</th>\n",
       "      <td>997.0</td>\n",
       "      <td>995878.0</td>\n",
       "    </tr>\n",
       "  </tbody>\n",
       "</table>\n",
       "</div>"
      ],
      "text/plain": [
       "        SqFt     Price\n",
       "count   75.0      75.0\n",
       "mean   564.0  524950.0\n",
       "std    285.0  274185.0\n",
       "min    114.0  109277.0\n",
       "25%    320.0  272804.0\n",
       "50%    588.0  503613.0\n",
       "75%    836.0  786078.0\n",
       "max    997.0  995878.0"
      ]
     },
     "execution_count": 5,
     "metadata": {},
     "output_type": "execute_result"
    }
   ],
   "source": [
    "# Explore the Features\n",
    "# Before scaling, lets explore our original data. Notice that we are only exploring the training set. We are keeping any information about\n",
    "# the test set hidden from our analysis.\n",
    "# Obtain descriptive statistics of your features\n",
    "X_train.describe().round(0)\n",
    "\n",
    "\n",
    "# The descriptive statistics above help you understand the original data (before we scale it). Notice that the range of the SqFt is 114-997,\n",
    "# and the range of the Price is 109277 - 995878. The mean SqFt is 564 and the mean Price is 524950."
   ]
  },
  {
   "cell_type": "code",
   "execution_count": 6,
   "metadata": {},
   "outputs": [
    {
     "data": {
      "text/html": [
       "<style>#sk-container-id-2 {color: black;}#sk-container-id-2 pre{padding: 0;}#sk-container-id-2 div.sk-toggleable {background-color: white;}#sk-container-id-2 label.sk-toggleable__label {cursor: pointer;display: block;width: 100%;margin-bottom: 0;padding: 0.3em;box-sizing: border-box;text-align: center;}#sk-container-id-2 label.sk-toggleable__label-arrow:before {content: \"▸\";float: left;margin-right: 0.25em;color: #696969;}#sk-container-id-2 label.sk-toggleable__label-arrow:hover:before {color: black;}#sk-container-id-2 div.sk-estimator:hover label.sk-toggleable__label-arrow:before {color: black;}#sk-container-id-2 div.sk-toggleable__content {max-height: 0;max-width: 0;overflow: hidden;text-align: left;background-color: #f0f8ff;}#sk-container-id-2 div.sk-toggleable__content pre {margin: 0.2em;color: black;border-radius: 0.25em;background-color: #f0f8ff;}#sk-container-id-2 input.sk-toggleable__control:checked~div.sk-toggleable__content {max-height: 200px;max-width: 100%;overflow: auto;}#sk-container-id-2 input.sk-toggleable__control:checked~label.sk-toggleable__label-arrow:before {content: \"▾\";}#sk-container-id-2 div.sk-estimator input.sk-toggleable__control:checked~label.sk-toggleable__label {background-color: #d4ebff;}#sk-container-id-2 div.sk-label input.sk-toggleable__control:checked~label.sk-toggleable__label {background-color: #d4ebff;}#sk-container-id-2 input.sk-hidden--visually {border: 0;clip: rect(1px 1px 1px 1px);clip: rect(1px, 1px, 1px, 1px);height: 1px;margin: -1px;overflow: hidden;padding: 0;position: absolute;width: 1px;}#sk-container-id-2 div.sk-estimator {font-family: monospace;background-color: #f0f8ff;border: 1px dotted black;border-radius: 0.25em;box-sizing: border-box;margin-bottom: 0.5em;}#sk-container-id-2 div.sk-estimator:hover {background-color: #d4ebff;}#sk-container-id-2 div.sk-parallel-item::after {content: \"\";width: 100%;border-bottom: 1px solid gray;flex-grow: 1;}#sk-container-id-2 div.sk-label:hover label.sk-toggleable__label {background-color: #d4ebff;}#sk-container-id-2 div.sk-serial::before {content: \"\";position: absolute;border-left: 1px solid gray;box-sizing: border-box;top: 0;bottom: 0;left: 50%;z-index: 0;}#sk-container-id-2 div.sk-serial {display: flex;flex-direction: column;align-items: center;background-color: white;padding-right: 0.2em;padding-left: 0.2em;position: relative;}#sk-container-id-2 div.sk-item {position: relative;z-index: 1;}#sk-container-id-2 div.sk-parallel {display: flex;align-items: stretch;justify-content: center;background-color: white;position: relative;}#sk-container-id-2 div.sk-item::before, #sk-container-id-2 div.sk-parallel-item::before {content: \"\";position: absolute;border-left: 1px solid gray;box-sizing: border-box;top: 0;bottom: 0;left: 50%;z-index: -1;}#sk-container-id-2 div.sk-parallel-item {display: flex;flex-direction: column;z-index: 1;position: relative;background-color: white;}#sk-container-id-2 div.sk-parallel-item:first-child::after {align-self: flex-end;width: 50%;}#sk-container-id-2 div.sk-parallel-item:last-child::after {align-self: flex-start;width: 50%;}#sk-container-id-2 div.sk-parallel-item:only-child::after {width: 0;}#sk-container-id-2 div.sk-dashed-wrapped {border: 1px dashed gray;margin: 0 0.4em 0.5em 0.4em;box-sizing: border-box;padding-bottom: 0.4em;background-color: white;}#sk-container-id-2 div.sk-label label {font-family: monospace;font-weight: bold;display: inline-block;line-height: 1.2em;}#sk-container-id-2 div.sk-label-container {text-align: center;}#sk-container-id-2 div.sk-container {/* jupyter's `normalize.less` sets `[hidden] { display: none; }` but bootstrap.min.css set `[hidden] { display: none !important; }` so we also need the `!important` here to be able to override the default hidden behavior on the sphinx rendered scikit-learn.org. See: https://github.com/scikit-learn/scikit-learn/issues/21755 */display: inline-block !important;position: relative;}#sk-container-id-2 div.sk-text-repr-fallback {display: none;}</style><div id=\"sk-container-id-2\" class=\"sk-top-container\"><div class=\"sk-text-repr-fallback\"><pre>StandardScaler()</pre><b>In a Jupyter environment, please rerun this cell to show the HTML representation or trust the notebook. <br />On GitHub, the HTML representation is unable to render, please try loading this page with nbviewer.org.</b></div><div class=\"sk-container\" hidden><div class=\"sk-item\"><div class=\"sk-estimator sk-toggleable\"><input class=\"sk-toggleable__control sk-hidden--visually\" id=\"sk-estimator-id-2\" type=\"checkbox\" checked><label for=\"sk-estimator-id-2\" class=\"sk-toggleable__label sk-toggleable__label-arrow\">StandardScaler</label><div class=\"sk-toggleable__content\"><pre>StandardScaler()</pre></div></div></div></div></div>"
      ],
      "text/plain": [
       "StandardScaler()"
      ]
     },
     "execution_count": 6,
     "metadata": {},
     "output_type": "execute_result"
    }
   ],
   "source": [
    "# Instantiate and Fit the Scaler on the Training Data\n",
    "# Note that we only fit on the TRAINING set of data. This means that all calculations for scaling are based only on the training data.\n",
    "# Remember, the purpose of the test set is to simulate unseen data so we do not use it in any calculations for pre-processing.\n",
    "# instantiate scaler\n",
    "scaler = StandardScaler()\n",
    "# fit scaler on training data\n",
    "scaler.fit(X_train)\n",
    "\n",
    "# The fit step performs the calculations, but it does NOT apply them. After fitting, the data is still the same."
   ]
  },
  {
   "cell_type": "code",
   "execution_count": 7,
   "metadata": {},
   "outputs": [
    {
     "data": {
      "text/plain": [
       "array([[-1.37431725,  1.72912293],\n",
       "       [ 1.34901239, -0.33899825],\n",
       "       [ 1.35959527, -0.23730597],\n",
       "       [ 1.1197165 , -1.01916082],\n",
       "       [ 0.98919422,  1.07150845]])"
      ]
     },
     "execution_count": 7,
     "metadata": {},
     "output_type": "execute_result"
    }
   ],
   "source": [
    "# Use the Scaler to Transform Both the Training and Testing Data\n",
    "# In order to apply the calculations made during the fit step, you will need to transform the data. \n",
    "# We will transform both the train set and test set.\n",
    "\n",
    "# transform training data\n",
    "train_scaled = scaler.transform(X_train)\n",
    "\n",
    "# transform testing data\n",
    "test_scaled = scaler.transform(X_test)\n",
    "\n",
    "# view the first 5 rows of train_scaled\n",
    "train_scaled[:5]"
   ]
  },
  {
   "cell_type": "code",
   "execution_count": 8,
   "metadata": {},
   "outputs": [
    {
     "data": {
      "text/html": [
       "<div>\n",
       "<style scoped>\n",
       "    .dataframe tbody tr th:only-of-type {\n",
       "        vertical-align: middle;\n",
       "    }\n",
       "\n",
       "    .dataframe tbody tr th {\n",
       "        vertical-align: top;\n",
       "    }\n",
       "\n",
       "    .dataframe thead th {\n",
       "        text-align: right;\n",
       "    }\n",
       "</style>\n",
       "<table border=\"1\" class=\"dataframe\">\n",
       "  <thead>\n",
       "    <tr style=\"text-align: right;\">\n",
       "      <th></th>\n",
       "      <th>SqFt</th>\n",
       "      <th>Price</th>\n",
       "    </tr>\n",
       "  </thead>\n",
       "  <tbody>\n",
       "    <tr>\n",
       "      <th>0</th>\n",
       "      <td>-1.374317</td>\n",
       "      <td>1.729123</td>\n",
       "    </tr>\n",
       "    <tr>\n",
       "      <th>1</th>\n",
       "      <td>1.349012</td>\n",
       "      <td>-0.338998</td>\n",
       "    </tr>\n",
       "    <tr>\n",
       "      <th>2</th>\n",
       "      <td>1.359595</td>\n",
       "      <td>-0.237306</td>\n",
       "    </tr>\n",
       "    <tr>\n",
       "      <th>3</th>\n",
       "      <td>1.119716</td>\n",
       "      <td>-1.019161</td>\n",
       "    </tr>\n",
       "    <tr>\n",
       "      <th>4</th>\n",
       "      <td>0.989194</td>\n",
       "      <td>1.071508</td>\n",
       "    </tr>\n",
       "  </tbody>\n",
       "</table>\n",
       "</div>"
      ],
      "text/plain": [
       "       SqFt     Price\n",
       "0 -1.374317  1.729123\n",
       "1  1.349012 -0.338998\n",
       "2  1.359595 -0.237306\n",
       "3  1.119716 -1.019161\n",
       "4  0.989194  1.071508"
      ]
     },
     "execution_count": 8,
     "metadata": {},
     "output_type": "execute_result"
    }
   ],
   "source": [
    "# Notice that StandardScaler, like all sklearn transformers we will be learning about, outputs Numpy arrays, not Pandas dataframes. If we\n",
    "# want to convert a Numpy array back to a dataframe (which we do not necessarily have to), we can use pd.DataFrame()\n",
    "# We will convert back to a dataframe here to allow us to more easily explore and understand the effects of transforming our data with\n",
    "# StandardScaler.\n",
    "# transform back to a dataframe\n",
    "X_train_scaled = pd.DataFrame(train_scaled, columns=X_train.columns)\n",
    "X_train_scaled.head()"
   ]
  },
  {
   "cell_type": "code",
   "execution_count": 9,
   "metadata": {},
   "outputs": [
    {
     "data": {
      "text/html": [
       "<div>\n",
       "<style scoped>\n",
       "    .dataframe tbody tr th:only-of-type {\n",
       "        vertical-align: middle;\n",
       "    }\n",
       "\n",
       "    .dataframe tbody tr th {\n",
       "        vertical-align: top;\n",
       "    }\n",
       "\n",
       "    .dataframe thead th {\n",
       "        text-align: right;\n",
       "    }\n",
       "</style>\n",
       "<table border=\"1\" class=\"dataframe\">\n",
       "  <thead>\n",
       "    <tr style=\"text-align: right;\">\n",
       "      <th></th>\n",
       "      <th>SqFt</th>\n",
       "      <th>Price</th>\n",
       "    </tr>\n",
       "  </thead>\n",
       "  <tbody>\n",
       "    <tr>\n",
       "      <th>count</th>\n",
       "      <td>75.00</td>\n",
       "      <td>75.00</td>\n",
       "    </tr>\n",
       "    <tr>\n",
       "      <th>mean</th>\n",
       "      <td>-0.00</td>\n",
       "      <td>0.00</td>\n",
       "    </tr>\n",
       "    <tr>\n",
       "      <th>std</th>\n",
       "      <td>1.01</td>\n",
       "      <td>1.01</td>\n",
       "    </tr>\n",
       "    <tr>\n",
       "      <th>min</th>\n",
       "      <td>-1.59</td>\n",
       "      <td>-1.53</td>\n",
       "    </tr>\n",
       "    <tr>\n",
       "      <th>25%</th>\n",
       "      <td>-0.86</td>\n",
       "      <td>-0.93</td>\n",
       "    </tr>\n",
       "    <tr>\n",
       "      <th>50%</th>\n",
       "      <td>0.09</td>\n",
       "      <td>-0.08</td>\n",
       "    </tr>\n",
       "    <tr>\n",
       "      <th>75%</th>\n",
       "      <td>0.96</td>\n",
       "      <td>0.96</td>\n",
       "    </tr>\n",
       "    <tr>\n",
       "      <th>max</th>\n",
       "      <td>1.53</td>\n",
       "      <td>1.73</td>\n",
       "    </tr>\n",
       "  </tbody>\n",
       "</table>\n",
       "</div>"
      ],
      "text/plain": [
       "        SqFt  Price\n",
       "count  75.00  75.00\n",
       "mean   -0.00   0.00\n",
       "std     1.01   1.01\n",
       "min    -1.59  -1.53\n",
       "25%    -0.86  -0.93\n",
       "50%     0.09  -0.08\n",
       "75%     0.96   0.96\n",
       "max     1.53   1.73"
      ]
     },
     "execution_count": 9,
     "metadata": {},
     "output_type": "execute_result"
    }
   ],
   "source": [
    "# Explore the Scaled Data\n",
    "# Obtain descriptive statistics of the scaled data\n",
    "# Use .round(2) to eliminate scientific notation and maintain 2 places after the decimal\n",
    "X_train_scaled.describe().round(2)"
   ]
  },
  {
   "cell_type": "code",
   "execution_count": null,
   "metadata": {},
   "outputs": [],
   "source": [
    "# The first thing you should notice about the descriptive statistics is that the mean for the features will be approximately 0 and the\n",
    "# standard deviation will be approximately 1.\n",
    "# The original data was on different scales. The magnitude of the value now represents how far away each value is from the mean of\n",
    "# each feature, in units of standard deviation. Values that are closer to the mean will be closer to zero. As a value becomes more\n",
    "# dramatically different than the mean, it will have a larger magnitude.\n",
    "# You will also notice that some values are negative and others are positive. With the new mean set to 0, any value below the mean of the\n",
    "# feature is negative, any value above the mean is positive.\n",
    "# Values with large magnitudes (in either the + or - direction) could be considered outliers. While there is no exact threshold for\n",
    "# establishing outliers, generally scaled values beyond -3 or 3 are considered outliers."
   ]
  },
  {
   "cell_type": "code",
   "execution_count": null,
   "metadata": {},
   "outputs": [],
   "source": [
    "# Summary\n",
    "# Scaling data is required to meet the assumptions of many, but not all, kinds of models. Standardizing is one type of scaling that is often\n",
    "# used. Standardizing means to subtract the mean of a series of numbers from each number in that series, then divide the result by the\n",
    "# standard deviation of that series. In Scikit-learn you can use StandardScaler() to scale your data before using it for machine learning.\n",
    "# We always fit transformers like StandardScaler() on training data, then use the fitted transformer to transform both the training data and\n",
    "# the testing data."
   ]
  }
 ],
 "metadata": {
  "kernelspec": {
   "display_name": "base",
   "language": "python",
   "name": "python3"
  },
  "language_info": {
   "codemirror_mode": {
    "name": "ipython",
    "version": 3
   },
   "file_extension": ".py",
   "mimetype": "text/x-python",
   "name": "python",
   "nbconvert_exporter": "python",
   "pygments_lexer": "ipython3",
   "version": "3.11.5"
  }
 },
 "nbformat": 4,
 "nbformat_minor": 2
}
