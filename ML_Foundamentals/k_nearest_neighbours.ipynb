{
 "cells": [
  {
   "cell_type": "code",
   "execution_count": 1,
   "metadata": {},
   "outputs": [],
   "source": [
    "import pandas as pd\n",
    "import numpy as np\n",
    "\n",
    "# For scaling data\n",
    "from sklearn.preprocessing import StandardScaler\n",
    "from sklearn.pipeline import make_pipeline\n",
    "from sklearn.datasets import load_iris\n",
    "from sklearn.neighbors import KNeighborsClassifier\n",
    "from sklearn.model_selection import train_test_split"
   ]
  },
  {
   "cell_type": "code",
   "execution_count": 9,
   "metadata": {},
   "outputs": [],
   "source": [
    "data = load_iris()\n",
    "df = pd.DataFrame(data.data, columns=data.feature_names)\n",
    "df['target'] = data.target\n",
    "df.head()\n",
    "\n",
    "\n",
    "# Arrange data into a features matrix and target vector\n",
    "X = df.drop(columns='target')\n",
    "y = df['target']\n",
    "X.shape\n",
    "y.shape\n",
    "\n",
    "\n",
    "# Train Test Split\n",
    "X_train, X_test, y_train, y_test = train_test_split(X, y, random_state = 42)"
   ]
  },
  {
   "cell_type": "code",
   "execution_count": 10,
   "metadata": {},
   "outputs": [],
   "source": [
    "# Instantiate Standard Scaler\n",
    "# Standardization of a dataset is a common requirement for many machine learning estimators (estimator is another name for model in scikit-learn).\n",
    "# We will instantiate it now and use it later in our pipeline.\n",
    "\n",
    "scaler = StandardScaler()"
   ]
  },
  {
   "cell_type": "code",
   "execution_count": 11,
   "metadata": {},
   "outputs": [
    {
     "data": {
      "text/plain": [
       "1.0"
      ]
     },
     "execution_count": 11,
     "metadata": {},
     "output_type": "execute_result"
    }
   ],
   "source": [
    "# K-Nearest Neighbors\n",
    "\n",
    "# Step 1: Make an instance of the Model\n",
    "# This is a place where you can tune the hyperparameters of a model. In this case, n_neighbors=1. You will want to try different values\n",
    "# for number of neighbors. The default is 5.\n",
    "\n",
    "knn = KNeighborsClassifier(n_neighbors=1)\n",
    "# Looking at some hyperparameters that seem tunable\n",
    "knn.get_params()\n",
    "\n",
    "# Step 2: Put the scaler and the model into a pipeline and fit the pipeline on the training data.\n",
    "knn_pipe = make_pipeline(scaler, knn)\n",
    "knn_pipe.fit(X_train, y_train)\n",
    "\n",
    "# Step 3: Predict the values for the test set\n",
    "predictions = knn_pipe.predict(X_test)\n",
    "predictions\n",
    "\n",
    "# Step 4: Evaluate the model's performance on the test set\n",
    "# calculate classification accuracy\n",
    "acc_score = knn_pipe.score(X_test, y_test)\n",
    "acc_score"
   ]
  },
  {
   "cell_type": "code",
   "execution_count": null,
   "metadata": {},
   "outputs": [],
   "source": [
    "# If KNN can get to 100% accuracy, why isn't it used more often?\n",
    "\n",
    "# The accuracy was 1.0 or 100%.\n",
    "# KNN is an instance-based model (lazy learning) that stores all the data (very memory intensive) it was fit on.\n",
    "\n",
    "# There is no explicit training phase before classification. In other words .fit doesn't do as much for this model versus other models like\n",
    "# linear regression, decision trees, neural networks etc.\n",
    "\n",
    "# Keeping the entire dataset in memory and performing classifications/regressions can be computationally expensive as the algorithm has\n",
    "# to parse through all of the data points. For this reason, KNN tends to work best on smaller data-sets that do not have many features."
   ]
  }
 ],
 "metadata": {
  "kernelspec": {
   "display_name": "base",
   "language": "python",
   "name": "python3"
  },
  "language_info": {
   "codemirror_mode": {
    "name": "ipython",
    "version": 3
   },
   "file_extension": ".py",
   "mimetype": "text/x-python",
   "name": "python",
   "nbconvert_exporter": "python",
   "pygments_lexer": "ipython3",
   "version": "3.10.10"
  },
  "orig_nbformat": 4
 },
 "nbformat": 4,
 "nbformat_minor": 2
}
