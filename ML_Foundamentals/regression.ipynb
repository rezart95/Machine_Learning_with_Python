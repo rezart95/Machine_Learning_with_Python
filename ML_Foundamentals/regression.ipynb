{
 "cells": [
  {
   "cell_type": "code",
   "execution_count": 3,
   "metadata": {},
   "outputs": [
    {
     "name": "stdout",
     "output_type": "stream",
     "text": [
      "[2.35870897 3.14117532 2.2227708  ... 2.03952706 2.84150145 2.27674871]\n",
      "[0.72412832 1.76677807 2.71151581 ... 1.72382152 2.34689276 3.52917352]\n"
     ]
    }
   ],
   "source": [
    "import pandas as pd\n",
    "import numpy as np\n",
    "from sklearn.model_selection import train_test_split\n",
    "from sklearn.linear_model import LinearRegression\n",
    "from sklearn.metrics import r2_score\n",
    "from sklearn.metrics import mean_absolute_error\n",
    "from sklearn.metrics import mean_squared_error\n",
    "\n",
    "# Import the dataset\n",
    "df = pd.read_csv('C:/Users/User/Desktop/cali_housing.csv')\n",
    "\n",
    "# Assign the target (y) and features (X)\n",
    "y = df['MedHouseVal']\n",
    "X = df.drop(columns='MedHouseVal')\n",
    "\n",
    "# Train Test Split the Data\n",
    "X_train, X_test, y_train, y_test = train_test_split(X, y, random_state = 42)\n",
    "\n",
    "# All of the values are numeric, and we are not scaling for this model so we can proceed with the developing the model\n",
    "reg = LinearRegression()\n",
    "\n",
    "# Train the model\n",
    "reg.fit(X_train,y_train)\n",
    "\n",
    "# Measuring Model Performance\n",
    "# The R^2 value on our training set was 0.609 and the R^2 value on our test set was 0.591.\n",
    "# In this case, our train and test scores were similar which means that our model was not \"overfit\".\n",
    "train_score = reg.score(X_train, y_train) # ~ 0.609873031052925\n",
    "test_score = reg.score(X_test,y_test) # ~ 0.5910509795491352\n",
    "\n",
    "# Obtaining the predictions\n",
    "train_preds = reg.predict(X_train)\n",
    "test_preds = reg.predict(X_test)\n",
    "\n",
    "print(train_preds)\n",
    "print(test_preds)"
   ]
  },
  {
   "cell_type": "code",
   "execution_count": 4,
   "metadata": {},
   "outputs": [
    {
     "name": "stdout",
     "output_type": "stream",
     "text": [
      "0.609873031052925\n",
      "0.5910509795491352\n"
     ]
    }
   ],
   "source": [
    "# Regression Metrics\n",
    "\n",
    "# Coefficient of Determination (R^2):\n",
    "r2_train = r2_score(y_train, train_preds)\n",
    "r2_test = r2_score(y_test, test_preds)\n",
    "\n",
    "# MAE(Mean Absolute Value) mean of the absolute value of the errors.\n",
    "mae_train = mean_absolute_error(y_train, train_preds)\n",
    "mae_test = mean_absolute_error(y_test, test_preds)\n",
    "\n",
    "# MSE mean of the squared errors. MSE \"punishes\" larger errors, which tends to be useful in the real world.\n",
    "mse_train = mean_squared_error(y_train, train_preds)\n",
    "mse_test = mean_squared_error(y_test, test_preds)\n",
    "\n",
    "# RMSE (Root mean squared error)\n",
    "rmse_train = np.sqrt(mean_squared_error(y_train, train_preds))\n",
    "rmse_test = np.sqrt(mean_squared_error(y_test, test_preds))\n",
    "\n",
    "print(r2_train)\n",
    "print(r2_test)"
   ]
  }
 ],
 "metadata": {
  "kernelspec": {
   "display_name": "base",
   "language": "python",
   "name": "python3"
  },
  "language_info": {
   "codemirror_mode": {
    "name": "ipython",
    "version": 3
   },
   "file_extension": ".py",
   "mimetype": "text/x-python",
   "name": "python",
   "nbconvert_exporter": "python",
   "pygments_lexer": "ipython3",
   "version": "3.10.10"
  },
  "orig_nbformat": 4
 },
 "nbformat": 4,
 "nbformat_minor": 2
}
